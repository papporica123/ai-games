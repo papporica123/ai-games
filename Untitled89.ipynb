{
  "nbformat": 4,
  "nbformat_minor": 0,
  "metadata": {
    "colab": {
      "provenance": [],
      "authorship_tag": "ABX9TyOWmGTRXKC6cILqFh8lWCmv",
      "include_colab_link": true
    },
    "kernelspec": {
      "name": "python3",
      "display_name": "Python 3"
    },
    "language_info": {
      "name": "python"
    }
  },
  "cells": [
    {
      "cell_type": "markdown",
      "metadata": {
        "id": "view-in-github",
        "colab_type": "text"
      },
      "source": [
        "<a href=\"https://colab.research.google.com/github/papporica123/ai-games/blob/main/Untitled89.ipynb\" target=\"_parent\"><img src=\"https://colab.research.google.com/assets/colab-badge.svg\" alt=\"Open In Colab\"/></a>"
      ]
    },
    {
      "cell_type": "code",
      "execution_count": 1,
      "metadata": {
        "id": "CVO1vBoyA-tL"
      },
      "outputs": [],
      "source": [
        "import cv2\n",
        "import numpy as np\n",
        "import matplotlib.pyplot as plt"
      ]
    },
    {
      "cell_type": "code",
      "source": [
        "def display_image(title, image):P\n",
        "    plt.figure(figsize=(10,10))\n",
        "    if len(image.shape) == 3:\n",
        "        plt.imshow(cv2.cvtColor(image, cv2.COLOR_BGR2RGB))\n",
        "    else:\n",
        "        plt.imshow(image, cmap='gray')\n",
        "    plt.title(title)\n",
        "    plt.axis('off')\n",
        "    plt.show()"
      ],
      "metadata": {
        "id": "MW7avKXvBLvA"
      },
      "execution_count": null,
      "outputs": []
    },
    {
      "cell_type": "code",
      "source": [
        "def interactive_edge_detection(image_path):\n",
        "  image = cv2.imread(image_path)\n",
        "  if image is None:\n",
        "    print(\"Error: Unable to read the image.\")\n",
        "    return"
      ],
      "metadata": {
        "id": "ZZbkVRGMCV2j"
      },
      "execution_count": null,
      "outputs": []
    },
    {
      "cell_type": "code",
      "source": [
        "gray_image = cv2.cvtColor(image, cv2.COLOR_BGR2GRAY)\n",
        "display_image(\"Original Image\", gray_image)"
      ],
      "metadata": {
        "id": "aE1oweaVDXnZ"
      },
      "execution_count": null,
      "outputs": []
    },
    {
      "cell_type": "code",
      "source": [
        "print(\"select an option:\")\n",
        "print(\"1. Sobel Edge Detection\")\n",
        "print(\"2. Canny Edge Detection\")\n",
        "print(\"3. Laplacian Edge Detection\")\n",
        "print(\"4. Prewitt Edge Detection\")\n",
        "print(\"5. Roberts Edge Detection\")\n",
        "print(\"6. exit\")\n",
        "choice = input(\"Enter your choice (1/2):\")"
      ],
      "metadata": {
        "colab": {
          "base_uri": "https://localhost:8080/",
          "height": 106
        },
        "collapsed": true,
        "id": "bTLWFGu-Dy5r",
        "outputId": "25a46a8d-644c-4e45-8a2a-4438e7fa41c0"
      },
      "execution_count": 2,
      "outputs": [
        {
          "output_type": "error",
          "ename": "SyntaxError",
          "evalue": "unterminated string literal (detected at line 5) (ipython-input-1780506708.py, line 5)",
          "traceback": [
            "\u001b[0;36m  File \u001b[0;32m\"/tmp/ipython-input-1780506708.py\"\u001b[0;36m, line \u001b[0;32m5\u001b[0m\n\u001b[0;31m    choice = input(\"Enter your choice (1/2):)\u001b[0m\n\u001b[0m                   ^\u001b[0m\n\u001b[0;31mSyntaxError\u001b[0m\u001b[0;31m:\u001b[0m unterminated string literal (detected at line 5)\n"
          ]
        }
      ]
    },
    {
      "cell_type": "code",
      "source": [
        "while True:\n",
        "  choice=input(\"Enter your choice (1/2):\")"
      ],
      "metadata": {
        "id": "u6_FRigxEWTt"
      },
      "execution_count": null,
      "outputs": []
    }
  ]
}