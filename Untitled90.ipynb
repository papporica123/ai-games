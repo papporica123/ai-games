{
  "nbformat": 4,
  "nbformat_minor": 0,
  "metadata": {
    "colab": {
      "provenance": [],
      "authorship_tag": "ABX9TyOy0CbhDmZhTJU71Txj1awG",
      "include_colab_link": true
    },
    "kernelspec": {
      "name": "python3",
      "display_name": "Python 3"
    },
    "language_info": {
      "name": "python"
    }
  },
  "cells": [
    {
      "cell_type": "markdown",
      "metadata": {
        "id": "view-in-github",
        "colab_type": "text"
      },
      "source": [
        "<a href=\"https://colab.research.google.com/github/papporica123/ai-games/blob/main/Untitled90.ipynb\" target=\"_parent\"><img src=\"https://colab.research.google.com/assets/colab-badge.svg\" alt=\"Open In Colab\"/></a>"
      ]
    },
    {
      "cell_type": "code",
      "execution_count": 1,
      "metadata": {
        "id": "3NtlkGeLo3sd"
      },
      "outputs": [],
      "source": [
        "import cv2\n",
        "import numpy as np"
      ]
    },
    {
      "cell_type": "code",
      "source": [
        "def apply_color_filter(image, filter_type):\n",
        "  filtered_image = image.copy()\n",
        "  if filter_type == \"red_tint\":"
      ],
      "metadata": {
        "id": "3K4T4dXipF-n"
      },
      "execution_count": null,
      "outputs": []
    },
    {
      "cell_type": "code",
      "source": [
        "  if filter_type == \"red_tint\":\n",
        "    filtered_image[:, :, 1]=0\n",
        "    filtered_image[:, :, 0]=0\n",
        "  elif filter_type == \"blue_tint\":\n",
        "    filtered_image[:, :, 0]=0\n",
        "    filtered_image[:, :, 2]=0\n",
        "  elif filter_type == \"green_tint\":\n",
        "    filtered_image[:, :, 0]=0\n",
        "    filtered_image[:, :, 1]=0\n",
        "  elif filter_type == \"increase_red\":\n",
        "    filtered_image[:, :, 0]=cv2.add(filtered_image[:, :, 2], 50)\n",
        "  elif filter_type == \"decrease_blue\":\n",
        "    filtered_image[:, :, 0]=cv2.subtract(filtered_image[:, :, 2], 50)\n",
        "  return filtered_image"
      ],
      "metadata": {
        "colab": {
          "base_uri": "https://localhost:8080/",
          "height": 106
        },
        "collapsed": true,
        "id": "K3YDDICepqvP",
        "outputId": "2c257fa4-581d-4520-fcad-38b6d0cff7cf"
      },
      "execution_count": 2,
      "outputs": [
        {
          "output_type": "error",
          "ename": "SyntaxError",
          "evalue": "invalid syntax (ipython-input-3194591554.py, line 3)",
          "traceback": [
            "\u001b[0;36m  File \u001b[0;32m\"/tmp/ipython-input-3194591554.py\"\u001b[0;36m, line \u001b[0;32m3\u001b[0m\n\u001b[0;31m    elif filter_type == \"blue_tint\":\u001b[0m\n\u001b[0m    ^\u001b[0m\n\u001b[0;31mSyntaxError\u001b[0m\u001b[0;31m:\u001b[0m invalid syntax\n"
          ]
        }
      ]
    },
    {
      "cell_type": "code",
      "source": [
        "image_path='example.jpg'\n",
        "image=cv2.imread(image_path)\n",
        "if image is None:\n",
        "    print(\"Failed to load the image.\")\n",
        "else:\n",
        "    filter_type="
      ],
      "metadata": {
        "id": "hilt5F6Bsd10"
      },
      "execution_count": null,
      "outputs": []
    }
  ]
}