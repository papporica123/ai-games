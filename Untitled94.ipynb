{
  "nbformat": 4,
  "nbformat_minor": 0,
  "metadata": {
    "colab": {
      "provenance": [],
      "authorship_tag": "ABX9TyO/OUURPMhk3mirQeqMsXPd",
      "include_colab_link": true
    },
    "kernelspec": {
      "name": "python3",
      "display_name": "Python 3"
    },
    "language_info": {
      "name": "python"
    }
  },
  "cells": [
    {
      "cell_type": "markdown",
      "metadata": {
        "id": "view-in-github",
        "colab_type": "text"
      },
      "source": [
        "<a href=\"https://colab.research.google.com/github/papporica123/ai-games/blob/main/Untitled94.ipynb\" target=\"_parent\"><img src=\"https://colab.research.google.com/assets/colab-badge.svg\" alt=\"Open In Colab\"/></a>"
      ]
    },
    {
      "cell_type": "code",
      "execution_count": 1,
      "metadata": {
        "id": "3kj1LS6M41-W"
      },
      "outputs": [],
      "source": [
        "import cv2\n",
        "import numpy as np"
      ]
    },
    {
      "cell_type": "code",
      "source": [
        "def apply_filer(image, filter_type):\n",
        "  filtered_image=image.copy()\n",
        "  if filter_type==\"red_tint\":\n",
        "    filtered_image[:,:,1]=0\n",
        "    filtered_image[:,:,0]=0\n",
        "  elif filter_type==\"green_tint\"\n",
        "    filtered_image[:,:,0]=0\n",
        "    filtered_image[:,:,2]=0\n",
        "  elif filter_type==\"blue_tint\"\n",
        "    filtered_image[:,:,1]=0\n",
        "    filtered_image[:,:,2]=0\n",
        "  elif filter_type==\"sobel\":\n",
        "    grey_image=cv2.cvtColor(image, cv2.COLOR_BGR2GRAY)\n",
        "    edges=cv2.Sobel(grey_image, cv2.CV_64f, 1, 0, ksize=3)"
      ],
      "metadata": {
        "id": "vIUHuVJA5G9J"
      },
      "execution_count": null,
      "outputs": []
    }
  ]
}