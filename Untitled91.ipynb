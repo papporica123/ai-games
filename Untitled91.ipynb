{
  "nbformat": 4,
  "nbformat_minor": 0,
  "metadata": {
    "colab": {
      "provenance": [],
      "authorship_tag": "ABX9TyNlvikDHlpMUPitfeluwFlW",
      "include_colab_link": true
    },
    "kernelspec": {
      "name": "python3",
      "display_name": "Python 3"
    },
    "language_info": {
      "name": "python"
    }
  },
  "cells": [
    {
      "cell_type": "markdown",
      "metadata": {
        "id": "view-in-github",
        "colab_type": "text"
      },
      "source": [
        "<a href=\"https://colab.research.google.com/github/papporica123/ai-games/blob/main/Untitled91.ipynb\" target=\"_parent\"><img src=\"https://colab.research.google.com/assets/colab-badge.svg\" alt=\"Open In Colab\"/></a>"
      ]
    },
    {
      "cell_type": "code",
      "execution_count": null,
      "metadata": {
        "id": "0eLw9sDdsVdG"
      },
      "outputs": [],
      "source": [
        "import cv2\n",
        "import numpy as np"
      ]
    },
    {
      "cell_type": "code",
      "source": [
        "def apply_color_filter(image, filter_type):\n",
        "  filtered_image=image.copy()\n",
        "  if filter_type == \"red_tint\":\n",
        "    filtered_image[:,:,1]=0\n",
        "    filtered_image[:,:,0]=0\n",
        "  elif filter_type == \"blue_tint\":\n",
        "    filtered_image[:,:,0]=0\n",
        "    filtered_image[:,:,1]=0\n",
        "  elif filter_type == \"green_tint\":\n",
        "    filtered_image[:,:,0]=0\n",
        "    filtered_image[:,:,2]=0\n",
        "  elif filter_type == \"increase_red\":\n",
        "    filtered_image[:,:,2]=cv2.add(filtered_image[:,:,0],50)\n",
        "  elif filter_type == \"decrease_blue\":\n",
        "    filtered_image[:,:,0]=cv2.subtract(filtered_image[:,:,0],50)\n",
        "  return filtered_image"
      ],
      "metadata": {
        "id": "Q35f9b_4snus"
      },
      "execution_count": 2,
      "outputs": []
    },
    {
      "cell_type": "code",
      "source": [
        "image_path='exmample.jpg'\n",
        "image=cv2.imread(image_path)"
      ],
      "metadata": {
        "id": "6nOnYvk1xjH-"
      },
      "execution_count": 3,
      "outputs": []
    },
    {
      "cell_type": "code",
      "source": [
        "if image is None:\n",
        "  print(\"error: image not found\")"
      ],
      "metadata": {
        "id": "MqestzZ3yMl_"
      },
      "execution_count": null,
      "outputs": []
    }
  ]
}